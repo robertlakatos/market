{
  "cells": [
    {
      "cell_type": "code",
      "source": [
        "from google.colab import drive\n",
        "drive.mount('/content/drive')"
      ],
      "metadata": {
        "colab": {
          "base_uri": "https://localhost:8080/"
        },
        "id": "iWv0UyvKtBCD",
        "outputId": "f9c2ba4b-4b83-4f17-9685-743431a9ec05"
      },
      "execution_count": 1,
      "outputs": [
        {
          "output_type": "stream",
          "name": "stdout",
          "text": [
            "Mounted at /content/drive\n"
          ]
        }
      ]
    },
    {
      "cell_type": "code",
      "execution_count": 3,
      "metadata": {
        "id": "p3aWPJg-s8wc"
      },
      "outputs": [],
      "source": [
        "import json\n",
        "import pandas as pd\n",
        "from tqdm import tqdm"
      ]
    },
    {
      "cell_type": "code",
      "source": [
        "root = \"drive/MyDrive/data/bank/\""
      ],
      "metadata": {
        "id": "VEb9EvgEtpDz"
      },
      "execution_count": 5,
      "outputs": []
    },
    {
      "cell_type": "code",
      "source": [
        "def reformat_csv(data):\n",
        "  tmp = data.copy()\n",
        "  tmp = tmp.fillna(0.0)\n",
        "  tmp[\"Dátum\"] = tmp[\"Dátum\"].apply(lambda x: x[:4] + \"-\" + x[5:7] + \"-\" + x[8:])\n",
        "  tmp[\"Árfolyam\"] = tmp[\"Árfolyam\"].apply(lambda x: float(str(x).replace(\",\", \".\")))\n",
        "  tmp[\"Napi befjegy. forgalom\"] = tmp[\"Napi befjegy. forgalom\"].apply(lambda x: float(str(x).replace(\",\", \".\")))\n",
        "  tmp[\"Napi befjegy. forgalom változás(%)\"] = tmp[\"Napi befjegy. forgalom változás(%)\"].apply(lambda x: float(str(x).replace(\"%\",\"\").replace(\",\", \".\")))\n",
        "  tmp[\"3 hónapos hozam\"] = tmp[\"3 hónapos hozam\"].apply(lambda x: float(str(x).replace(\"%\",\"\").replace(\",\", \".\")))\n",
        "  tmp[\"6 hónapos hozam\"] = tmp[\"6 hónapos hozam\"].apply(lambda x: float(str(x).replace(\"%\",\"\").replace(\",\", \".\")))\n",
        "  tmp[\"1 éves hozam\"] = tmp[\"1 éves hozam\"].apply(lambda x: float(str(x).replace(\"%\",\"\").replace(\",\", \".\")))\n",
        "  tmp[\"3 éves hozam\"] = tmp[\"3 éves hozam\"].apply(lambda x: float(str(x).replace(\"%\",\"\").replace(\",\", \".\")))\n",
        "  tmp[\"5 éves hozam\"] = tmp[\"5 éves hozam\"].apply(lambda x: float(str(x).replace(\"%\",\"\").replace(\",\", \".\")))\n",
        "  tmp[\"10 éves hozam\"] = tmp[\"10 éves hozam\"].apply(lambda x: float(str(x).replace(\"%\",\"\").replace(\",\", \".\")))\n",
        "  return tmp"
      ],
      "metadata": {
        "id": "xtv2C7zZwWXq"
      },
      "execution_count": 20,
      "outputs": []
    },
    {
      "cell_type": "code",
      "source": [
        "with open(root + \"data.json\",\"r\",encoding=\"utf8\") as jf:\n",
        "    stocks = json.load(jf)"
      ],
      "metadata": {
        "id": "SfyE0Cw1tkoO"
      },
      "execution_count": 63,
      "outputs": []
    },
    {
      "cell_type": "code",
      "source": [
        "for key in tqdm(stocks.keys()):\n",
        "  stocks[key] = {\n",
        "       \"data\" : pd.read_csv(root + \"/raw/\" + key + \".csv\"),\n",
        "       \"name\" : stocks[key]\n",
        "  }"
      ],
      "metadata": {
        "id": "TrcygUcMuA7X",
        "outputId": "ccefe403-2df6-4977-c94f-0717bc2e1867",
        "colab": {
          "base_uri": "https://localhost:8080/"
        }
      },
      "execution_count": 65,
      "outputs": [
        {
          "output_type": "stream",
          "name": "stderr",
          "text": [
            "100%|██████████| 93/93 [00:01<00:00, 67.74it/s]\n"
          ]
        }
      ]
    },
    {
      "cell_type": "code",
      "source": [
        "pbar = tqdm(stocks.keys())\n",
        "for key in pbar:\n",
        "  try:\n",
        "    stocks[key][\"reformated_data\"] = reformat_csv(stocks[key][\"data\"])\n",
        "    pbar.set_description(key)\n",
        "  except:\n",
        "    pbar.set_description(\"Errors - \" + key)"
      ],
      "metadata": {
        "id": "sBaiX8aFwueb",
        "outputId": "cfd6e361-e286-4bca-a265-312dc70447d7",
        "colab": {
          "base_uri": "https://localhost:8080/"
        }
      },
      "execution_count": 67,
      "outputs": [
        {
          "output_type": "stream",
          "name": "stderr",
          "text": [
            "HU0000709092: 100%|██████████| 93/93 [00:03<00:00, 30.31it/s]\n"
          ]
        }
      ]
    },
    {
      "cell_type": "code",
      "source": [
        "[[key, stocks[key][\"name\"]] for key in stocks.keys() if 'reformated_data' not in stocks[key].keys()]"
      ],
      "metadata": {
        "id": "HJ1SMRjyzXAU",
        "outputId": "6adcbeae-6fe4-42b3-8b2e-960121a3ca41",
        "colab": {
          "base_uri": "https://localhost:8080/"
        }
      },
      "execution_count": 68,
      "outputs": [
        {
          "output_type": "execute_result",
          "data": {
            "text/plain": [
              "[['HU0000702881', 'OTP Paletta Nyíltvégű Értékpapír Alap'],\n",
              " ['HU0000702899', 'OTP Omega Fejlett Piaci Részvény Alapok Alapja A sorozat']]"
            ]
          },
          "metadata": {},
          "execution_count": 68
        }
      ]
    },
    {
      "cell_type": "code",
      "source": [
        "pbar = tqdm(stocks.keys())\n",
        "for key in pbar:\n",
        "  pbar.set_description(key)\n",
        "  if 'reformated_data' in stocks[key].keys():\n",
        "    stocks[key][\"reformated_data\"].to_csv(root + \"/cleaned/\" + key + \".csv\",\n",
        "                                          sep=\";\",\n",
        "                                          index=False,\n",
        "                                          encoding='utf-8-sig',\n",
        "                                          decimal=\",\")"
      ],
      "metadata": {
        "id": "R7Cu_w341FcE",
        "outputId": "967cf8ec-4d42-4b53-d30a-f5dda8cde2e3",
        "colab": {
          "base_uri": "https://localhost:8080/"
        }
      },
      "execution_count": 72,
      "outputs": [
        {
          "output_type": "stream",
          "name": "stderr",
          "text": [
            "HU0000709092: 100%|██████████| 93/93 [00:06<00:00, 15.03it/s]\n"
          ]
        }
      ]
    }
  ],
  "metadata": {
    "kernelspec": {
      "display_name": "Python 3",
      "language": "python",
      "name": "python3"
    },
    "language_info": {
      "name": "python",
      "version": "3.9.7 (default, Sep 16 2021, 16:59:28) [MSC v.1916 64 bit (AMD64)]"
    },
    "orig_nbformat": 4,
    "vscode": {
      "interpreter": {
        "hash": "ae762972a34df10aa51ef26bc783b206e1ab830a8db532b158520f3d75f51d30"
      }
    },
    "colab": {
      "provenance": []
    }
  },
  "nbformat": 4,
  "nbformat_minor": 0
}