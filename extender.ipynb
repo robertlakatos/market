{
  "cells": [
    {
      "cell_type": "code",
      "execution_count": 1,
      "metadata": {
        "id": "BxyM0TJyVv6E",
        "outputId": "05cbe580-5365-4396-cf80-b90620038892",
        "colab": {
          "base_uri": "https://localhost:8080/"
        }
      },
      "outputs": [
        {
          "output_type": "stream",
          "name": "stdout",
          "text": [
            "Mounted at /content/drive\n"
          ]
        }
      ],
      "source": [
        "from google.colab import drive\n",
        "drive.mount('/content/drive')"
      ]
    },
    {
      "cell_type": "code",
      "source": [
        "import os\n",
        "import time\n",
        "import json\n",
        "import pandas as pd\n",
        "from tqdm import tqdm"
      ],
      "metadata": {
        "id": "EkUVbpkpVzMh"
      },
      "execution_count": 58,
      "outputs": []
    },
    {
      "cell_type": "code",
      "source": [
        "root = \"drive/MyDrive/data/bank/\"\n",
        "url_bamosz = \"https://www.bamosz.hu/alapoldal?isin=\""
      ],
      "metadata": {
        "id": "gWHQGZl3V-gm"
      },
      "execution_count": 59,
      "outputs": []
    },
    {
      "cell_type": "code",
      "source": [
        "with open(root + \"data.json\",\"r\",encoding=\"utf8\") as jf:\n",
        "    stocks = json.load(jf)"
      ],
      "metadata": {
        "id": "q_gYnbO6WDTn"
      },
      "execution_count": 71,
      "outputs": []
    },
    {
      "cell_type": "code",
      "source": [
        "for key in tqdm(stocks.keys()):\n",
        "  file_with_paht = root + \"/cleaned/\" + key + \".csv\"\n",
        "  if os.path.exists(file_with_paht):\n",
        "    stocks[key] = {\n",
        "        \"data\" : pd.read_csv(file_with_paht, sep=\";\", decimal=\",\",encoding='utf-8-sig'),\n",
        "        \"name\" : stocks[key]\n",
        "    }\n",
        "  else:\n",
        "    stocks[key] = { \"name\" : stocks[key] }"
      ],
      "metadata": {
        "id": "mcEBJb3UWGNw",
        "outputId": "92c29cc9-b65e-46f6-dad5-1acf652bec74",
        "colab": {
          "base_uri": "https://localhost:8080/"
        }
      },
      "execution_count": 72,
      "outputs": [
        {
          "output_type": "stream",
          "name": "stderr",
          "text": [
            "100%|██████████| 93/93 [00:00<00:00, 100.51it/s]\n"
          ]
        }
      ]
    },
    {
      "cell_type": "code",
      "source": [
        "extended = {}\n",
        "while len(list(stocks.keys())) > 0: \n",
        "  errors = {}\n",
        "  pbar = tqdm(stocks.keys())\n",
        "  for key in pbar:    \n",
        "    if 'data' in stocks[key].keys():\n",
        "      try:      \n",
        "        stocks[key][\"new_data\"] = pd.read_html(url_bamosz+key, \n",
        "                                              attrs={\"class\" : \"dataTable2\"}, \n",
        "                                              decimal=\",\", \n",
        "                                              thousands='.')[1]\n",
        "        extended[key] = stocks[key].copy()\n",
        "        pbar.set_description(\"Completed: \" + key)\n",
        "      except:\n",
        "        errors[key] = stocks[key].copy()\n",
        "        pbar.set_description(\"Errors: \" + key)\n",
        "      time.sleep(1)\n",
        "\n",
        "  stocks = errors.copy()\n",
        "  time.sleep(2)"
      ],
      "metadata": {
        "id": "Zor0X1gtW5eY",
        "outputId": "19143b65-ae9f-4cbb-9db7-2d2b931d5ca1",
        "colab": {
          "base_uri": "https://localhost:8080/"
        }
      },
      "execution_count": 73,
      "outputs": [
        {
          "output_type": "stream",
          "name": "stderr",
          "text": [
            "Completed: HU0000709092: 100%|██████████| 93/93 [04:13<00:00,  2.72s/it]\n"
          ]
        }
      ]
    },
    {
      "cell_type": "code",
      "source": [
        "def cleaner(item):\n",
        "  return item.replace(\"%\",\"\").replace(\",\",\".\").replace(\" \",\"\")\n",
        "\n",
        "def rename_columns(data):\n",
        "  return data.rename(columns={\"Nettó eszközérték\": \"NEÉ\",\n",
        "                              \"Napi bef. jegy forgalom\": \"Napi befjegy. forgalom\",\n",
        "                              \"Napi befjegy forgalom vált.\" : \"Napi befjegy. forgalom változás(%)\",\n",
        "                              \"3 havi\" : \"3 hónapos hozam\",\n",
        "                              \"6 havi\" : \"6 hónapos hozam\",\n",
        "                              \"1 éves\" : \"1 éves hozam\",\n",
        "                              \"3 éves\" : \"3 éves hozam\",\n",
        "                              \"5 éves\" : \"5 éves hozam\",\n",
        "                              \"10 éves\" : \"10 éves hozam\"})\n",
        "  \n",
        "def reformat_csv(data):\n",
        "  tmp = data.copy()\n",
        "  tmp.columns = tmp.values[0]\n",
        "  tmp = tmp[1:].copy().iloc[::-1]\n",
        "  tmp = tmp.fillna(0.0)\n",
        "  tmp[\"Dátum\"] = tmp[\"Dátum\"].apply(lambda x: x[:4] + \"-\" + x[4:6] + \"-\" + x[6:])\n",
        "  tmp[\"Árfolyam\"] = tmp[\"Árfolyam\"].apply(lambda x: float(cleaner(cleaner(str(x)))))\n",
        "  tmp[\"Nettó eszközérték\"] = tmp[\"Nettó eszközérték\"].apply(lambda x: int(cleaner(str(x))))\n",
        "  tmp[\"Napi bef. jegy forgalom\"] = tmp[\"Napi bef. jegy forgalom\"].apply(lambda x: float(x))\n",
        "  tmp[\"Napi befjegy forgalom vált.\"] = tmp[\"Napi befjegy forgalom vált.\"].apply(lambda x: float(cleaner(str(x))))\n",
        "  tmp[\"3 havi\"] = tmp[\"3 havi\"].apply(lambda x: float(cleaner(str(x))))\n",
        "  tmp[\"6 havi\"] = tmp[\"6 havi\"].apply(lambda x: float(cleaner(str(x))))\n",
        "  tmp[\"1 éves\"] = tmp[\"1 éves\"].apply(lambda x: float(cleaner(str(x))))\n",
        "  tmp[\"3 éves\"] = tmp[\"3 éves\"].apply(lambda x: float(cleaner(str(x))))\n",
        "  tmp[\"5 éves\"] = tmp[\"5 éves\"].apply(lambda x: float(cleaner(str(x))))\n",
        "  tmp[\"10 éves\"] = tmp[\"10 éves\"].apply(lambda x: float(cleaner(str(x))))\n",
        "  tmp = rename_columns(tmp)\n",
        "  return tmp"
      ],
      "metadata": {
        "id": "W_m5zjjcbBUG"
      },
      "execution_count": 74,
      "outputs": []
    },
    {
      "cell_type": "code",
      "source": [
        "# import copy\n",
        "# ext2 = copy.deepcopy(extended)\n",
        "\n",
        "for key in tqdm(extended.keys()):\n",
        "  extended[key][\"new_data\"] = reformat_csv(extended[key][\"new_data\"])\n",
        "\n",
        "  dates = list(extended[key][\"data\"][\"Dátum\"].values)\n",
        "  tmp = extended[key][\"new_data\"][~extended[key][\"new_data\"][\"Dátum\"].isin(dates)]\n",
        "  extended[key][\"ext_data\"] = pd.concat([tmp.iloc[::-1], extended[key][\"data\"]])"
      ],
      "metadata": {
        "id": "8634EOoFXv3S",
        "outputId": "98ddf020-e4f8-4a7c-a46f-84e890c5e09f",
        "colab": {
          "base_uri": "https://localhost:8080/"
        }
      },
      "execution_count": 75,
      "outputs": [
        {
          "output_type": "stream",
          "name": "stderr",
          "text": [
            "100%|██████████| 91/91 [00:00<00:00, 113.62it/s]\n"
          ]
        }
      ]
    },
    {
      "cell_type": "code",
      "source": [
        "for key in tqdm(extended.keys()):\n",
        "  extended[key][\"ext_data\"].to_csv(root + \"/extended/\" + key + \".csv\",\n",
        "                                   sep=\";\",\n",
        "                                   index=False,\n",
        "                                   encoding='utf-8-sig',\n",
        "                                   decimal=\",\")"
      ],
      "metadata": {
        "id": "6tu0cBf-20hz",
        "outputId": "8fe519b8-0fdc-4b2e-d897-130700083f36",
        "colab": {
          "base_uri": "https://localhost:8080/"
        }
      },
      "execution_count": 83,
      "outputs": [
        {
          "output_type": "stream",
          "name": "stderr",
          "text": [
            "100%|██████████| 91/91 [00:06<00:00, 15.16it/s]\n"
          ]
        }
      ]
    }
  ],
  "metadata": {
    "kernelspec": {
      "display_name": "base",
      "language": "python",
      "name": "python3"
    },
    "language_info": {
      "name": "python",
      "version": "3.9.7 (default, Sep 16 2021, 16:59:28) [MSC v.1916 64 bit (AMD64)]"
    },
    "orig_nbformat": 4,
    "vscode": {
      "interpreter": {
        "hash": "ae762972a34df10aa51ef26bc783b206e1ab830a8db532b158520f3d75f51d30"
      }
    },
    "colab": {
      "provenance": []
    }
  },
  "nbformat": 4,
  "nbformat_minor": 0
}