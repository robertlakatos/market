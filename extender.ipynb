{
  "cells": [
    {
      "cell_type": "code",
      "execution_count": 1,
      "metadata": {
        "id": "BxyM0TJyVv6E",
        "outputId": "6b601bae-cf87-442a-c231-e8c405ec73db",
        "colab": {
          "base_uri": "https://localhost:8080/"
        }
      },
      "outputs": [
        {
          "output_type": "stream",
          "name": "stdout",
          "text": [
            "Mounted at /content/drive\n"
          ]
        }
      ],
      "source": [
        "from google.colab import drive\n",
        "drive.mount('/content/drive')"
      ]
    },
    {
      "cell_type": "code",
      "source": [
        "import os\n",
        "import time\n",
        "import json\n",
        "import pandas as pd\n",
        "from tqdm import tqdm"
      ],
      "metadata": {
        "id": "EkUVbpkpVzMh"
      },
      "execution_count": 68,
      "outputs": []
    },
    {
      "cell_type": "code",
      "source": [
        "root = \"drive/MyDrive/data/bank/\"\n",
        "source_dir = \"/extended/\"\n",
        "output_dir = \"/extended/\"\n",
        "url_bamosz = \"https://www.bamosz.hu/alapoldal?isin=\""
      ],
      "metadata": {
        "id": "gWHQGZl3V-gm"
      },
      "execution_count": 69,
      "outputs": []
    },
    {
      "cell_type": "code",
      "source": [
        "with open(root + \"data.json\",\"r\",encoding=\"utf8\") as jf:\n",
        "    stocks = json.load(jf)"
      ],
      "metadata": {
        "id": "q_gYnbO6WDTn"
      },
      "execution_count": 70,
      "outputs": []
    },
    {
      "cell_type": "code",
      "source": [
        "for key in tqdm(stocks.keys()):\n",
        "  file_with_paht = root + source_dir + key + \".csv\"\n",
        "  if os.path.exists(file_with_paht):\n",
        "    stocks[key] = {\n",
        "        \"data\" : pd.read_csv(file_with_paht, sep=\";\", decimal=\",\",encoding='utf-8-sig'),\n",
        "        \"name\" : stocks[key]\n",
        "    }\n",
        "  else:\n",
        "    stocks[key] = { \"name\" : stocks[key] }"
      ],
      "metadata": {
        "id": "mcEBJb3UWGNw",
        "outputId": "00b3f909-85d2-42b5-bd94-19294f5073e6",
        "colab": {
          "base_uri": "https://localhost:8080/"
        }
      },
      "execution_count": 71,
      "outputs": [
        {
          "output_type": "stream",
          "name": "stderr",
          "text": [
            "100%|██████████| 93/93 [00:01<00:00, 71.66it/s]\n"
          ]
        }
      ]
    },
    {
      "cell_type": "code",
      "source": [
        "extended = {}\n",
        "while len(list(stocks.keys())) > 0: \n",
        "  errors = {}\n",
        "  pbar = tqdm(stocks.keys())\n",
        "  for key in pbar:    \n",
        "    if 'data' in stocks[key].keys():\n",
        "      try:      \n",
        "        stocks[key][\"new_data\"] = pd.read_html(url_bamosz+key, \n",
        "                                              attrs={\"class\" : \"dataTable2\"}, \n",
        "                                              decimal=\",\", \n",
        "                                              thousands='.')[1]\n",
        "        extended[key] = stocks[key].copy()\n",
        "        pbar.set_description(\"Completed: \" + key)\n",
        "      except:\n",
        "        errors[key] = stocks[key].copy()\n",
        "        pbar.set_description(\"Errors: \" + key)\n",
        "      time.sleep(1)\n",
        "\n",
        "  stocks = errors.copy()\n",
        "  time.sleep(2)"
      ],
      "metadata": {
        "id": "Zor0X1gtW5eY",
        "outputId": "45505d83-8611-432d-e7e1-3a542f3d3479",
        "colab": {
          "base_uri": "https://localhost:8080/"
        }
      },
      "execution_count": 72,
      "outputs": [
        {
          "output_type": "stream",
          "name": "stderr",
          "text": [
            "Completed: HU0000709092: 100%|██████████| 93/93 [04:15<00:00,  2.75s/it]\n"
          ]
        }
      ]
    },
    {
      "cell_type": "code",
      "source": [
        "def cleaner(item):\n",
        "  return item.replace(\"%\",\"\").replace(\",\",\".\").replace(\" \",\"\")\n",
        "\n",
        "def rename_columns(data):\n",
        "  return data.rename(columns={\"Nettó eszközérték\": \"NEÉ\",\n",
        "                              \"Napi bef. jegy forgalom\": \"Napi befjegy. forgalom\",\n",
        "                              \"Napi befjegy forgalom vált.\" : \"Napi befjegy. forgalom változás(%)\",\n",
        "                              \"3 havi\" : \"3 hónapos hozam\",\n",
        "                              \"6 havi\" : \"6 hónapos hozam\",\n",
        "                              \"1 éves\" : \"1 éves hozam\",\n",
        "                              \"3 éves\" : \"3 éves hozam\",\n",
        "                              \"5 éves\" : \"5 éves hozam\",\n",
        "                              \"10 éves\" : \"10 éves hozam\"})\n",
        "  \n",
        "def reformat_csv(data):\n",
        "  tmp = data.copy()\n",
        "  tmp.columns = tmp.values[0]\n",
        "  tmp = tmp[1:].copy().iloc[::-1]\n",
        "  tmp = tmp.fillna(0.0)\n",
        "  tmp[\"Dátum\"] = tmp[\"Dátum\"].apply(lambda x: x[:4] + \"-\" + x[4:6] + \"-\" + x[6:])\n",
        "  tmp[\"Árfolyam\"] = tmp[\"Árfolyam\"].apply(lambda x: float(cleaner(cleaner(str(x)))))\n",
        "  tmp[\"Nettó eszközérték\"] = tmp[\"Nettó eszközérték\"].apply(lambda x: int(cleaner(str(x))))\n",
        "  tmp[\"Napi bef. jegy forgalom\"] = tmp[\"Napi bef. jegy forgalom\"].apply(lambda x: float(x))\n",
        "  tmp[\"Napi befjegy forgalom vált.\"] = tmp[\"Napi befjegy forgalom vált.\"].apply(lambda x: float(cleaner(str(x))))\n",
        "  tmp[\"3 havi\"] = tmp[\"3 havi\"].apply(lambda x: float(cleaner(str(x))))\n",
        "  tmp[\"6 havi\"] = tmp[\"6 havi\"].apply(lambda x: float(cleaner(str(x))))\n",
        "  tmp[\"1 éves\"] = tmp[\"1 éves\"].apply(lambda x: float(cleaner(str(x))))\n",
        "  tmp[\"3 éves\"] = tmp[\"3 éves\"].apply(lambda x: float(cleaner(str(x))))\n",
        "  tmp[\"5 éves\"] = tmp[\"5 éves\"].apply(lambda x: float(cleaner(str(x))))\n",
        "  tmp[\"10 éves\"] = tmp[\"10 éves\"].apply(lambda x: float(cleaner(str(x))))\n",
        "  tmp = rename_columns(tmp)\n",
        "  return tmp"
      ],
      "metadata": {
        "id": "W_m5zjjcbBUG"
      },
      "execution_count": 73,
      "outputs": []
    },
    {
      "cell_type": "code",
      "source": [
        "# import copy\n",
        "# ext2 = copy.deepcopy(extended)\n",
        "\n",
        "for key in tqdm(extended.keys()):\n",
        "  extended[key][\"new_data\"] = reformat_csv(extended[key][\"new_data\"])\n",
        "\n",
        "  dates = list(extended[key][\"data\"][\"Dátum\"].values)\n",
        "  tmp = extended[key][\"new_data\"][~extended[key][\"new_data\"][\"Dátum\"].isin(dates)]\n",
        "  extended[key][\"ext_data\"] = pd.concat([tmp.iloc[::-1], extended[key][\"data\"]])\n",
        "  extended[key][\"ext_data\"] = extended[key][\"ext_data\"][~(extended[key][\"ext_data\"][\"Árfolyam\"] == 0)]\n",
        "  extended[key][\"ext_data\"][\"id\"] = [key] * len(extended[key][\"ext_data\"])\n",
        "  extended[key][\"ext_data\"][\"name\"] = [extended[key][\"name\"]] * len(extended[key][\"ext_data\"])"
      ],
      "metadata": {
        "id": "8634EOoFXv3S",
        "outputId": "0cb9923f-5b5e-4c04-82bc-9fc1dfa8f74b",
        "colab": {
          "base_uri": "https://localhost:8080/"
        }
      },
      "execution_count": 74,
      "outputs": [
        {
          "output_type": "stream",
          "name": "stderr",
          "text": [
            "100%|██████████| 91/91 [00:01<00:00, 68.03it/s]\n"
          ]
        }
      ]
    },
    {
      "cell_type": "code",
      "source": [
        "def get_bollinger_bands(prices, rate=20):\n",
        "    sma = prices.rolling(rate).mean()\n",
        "    std = prices.rolling(rate).std()\n",
        "    bollinger_up = sma + std * 2 # Calculate top band\n",
        "    bollinger_down = sma - std * 2 # Calculate bottom band\n",
        "    \n",
        "    return bollinger_up, bollinger_down\n",
        "\n",
        "for key in tqdm(extended.keys()):\n",
        "  extended[key][\"ext_data\"] = extended[key][\"ext_data\"].sort_values(by='Dátum')\n",
        "  extended[key][\"ext_data\"][\"Árfolyam_MA7\"] = extended[key][\"ext_data\"][\"Árfolyam\"].rolling(7).mean()\n",
        "  extended[key][\"ext_data\"][\"Árfolyam_MA14\"] = extended[key][\"ext_data\"][\"Árfolyam\"].rolling(14).mean()\n",
        "  extended[key][\"ext_data\"][\"Árfolyam_MA21\"] = extended[key][\"ext_data\"][\"Árfolyam\"].rolling(21).mean()\n",
        "  extended[key][\"ext_data\"][\"Árfolyam_MA30\"] = extended[key][\"ext_data\"][\"Árfolyam\"].rolling(30).mean()\n",
        "  \n",
        "  bollinger_up, bollinger_down = get_bollinger_bands(extended[key][\"ext_data\"][\"Árfolyam\"])\n",
        "  extended[key][\"ext_data\"][\"bollinger_up_20\"] = bollinger_up\n",
        "  extended[key][\"ext_data\"][\"bollinger_down_20\"] = bollinger_down\n",
        "\n",
        "  extended[key][\"ext_data\"] = extended[key][\"ext_data\"].fillna(0.0)"
      ],
      "metadata": {
        "colab": {
          "base_uri": "https://localhost:8080/"
        },
        "id": "r-blkEPhKDYf",
        "outputId": "47f8e306-66ec-4193-91e8-b0f8fbcff5b7"
      },
      "execution_count": 75,
      "outputs": [
        {
          "output_type": "stream",
          "name": "stderr",
          "text": [
            "100%|██████████| 91/91 [00:00<00:00, 96.25it/s] \n"
          ]
        }
      ]
    },
    {
      "cell_type": "code",
      "source": [
        "for key in tqdm(extended.keys()):\n",
        "  extended[key][\"ext_data\"].to_csv(root + output_dir + key + \".csv\",\n",
        "                                   sep=\";\",\n",
        "                                   index=False,\n",
        "                                   encoding='utf-8-sig',\n",
        "                                   decimal=\",\")"
      ],
      "metadata": {
        "id": "6tu0cBf-20hz",
        "outputId": "84f4611b-cdfa-447a-d80c-1f06b848a601",
        "colab": {
          "base_uri": "https://localhost:8080/"
        }
      },
      "execution_count": 76,
      "outputs": [
        {
          "output_type": "stream",
          "name": "stderr",
          "text": [
            "100%|██████████| 91/91 [00:10<00:00,  8.74it/s]\n"
          ]
        }
      ]
    },
    {
      "cell_type": "code",
      "source": [
        "total = pd.concat([extended[key][\"ext_data\"] for key in tqdm(extended.keys())])\n",
        "total.to_csv(root + \"total.csv\",\n",
        "             sep=\";\",\n",
        "             index=False,\n",
        "             encoding='utf-8-sig',\n",
        "             decimal=\",\")\n",
        "total.info()"
      ],
      "metadata": {
        "colab": {
          "base_uri": "https://localhost:8080/"
        },
        "id": "7_O6zg6NAorT",
        "outputId": "d82eab83-110d-435c-9cc6-91a7a715910a"
      },
      "execution_count": 77,
      "outputs": [
        {
          "output_type": "stream",
          "name": "stderr",
          "text": [
            "100%|██████████| 91/91 [00:00<00:00, 243886.05it/s]\n"
          ]
        },
        {
          "output_type": "stream",
          "name": "stdout",
          "text": [
            "<class 'pandas.core.frame.DataFrame'>\n",
            "Int64Index: 204391 entries, 1227 to 1\n",
            "Data columns (total 20 columns):\n",
            " #   Column                              Non-Null Count   Dtype  \n",
            "---  ------                              --------------   -----  \n",
            " 0   Dátum                               204391 non-null  object \n",
            " 1   Árfolyam                            204391 non-null  float64\n",
            " 2   NEÉ                                 204391 non-null  float64\n",
            " 3   Kifizetett hozam                    204391 non-null  object \n",
            " 4   Napi befjegy. forgalom              204391 non-null  float64\n",
            " 5   Napi befjegy. forgalom változás(%)  204391 non-null  float64\n",
            " 6   3 hónapos hozam                     204391 non-null  float64\n",
            " 7   6 hónapos hozam                     204391 non-null  float64\n",
            " 8   1 éves hozam                        204391 non-null  float64\n",
            " 9   3 éves hozam                        204391 non-null  float64\n",
            " 10  5 éves hozam                        204391 non-null  float64\n",
            " 11  10 éves hozam                       204391 non-null  float64\n",
            " 12  id                                  204391 non-null  object \n",
            " 13  name                                204391 non-null  object \n",
            " 14  Árfolyam_MA7                        204391 non-null  float64\n",
            " 15  Árfolyam_MA14                       204391 non-null  float64\n",
            " 16  Árfolyam_MA21                       204391 non-null  float64\n",
            " 17  Árfolyam_MA30                       204391 non-null  float64\n",
            " 18  bollinger_up_20                     204391 non-null  float64\n",
            " 19  bollinger_down_20                   204391 non-null  float64\n",
            "dtypes: float64(16), object(4)\n",
            "memory usage: 32.7+ MB\n"
          ]
        }
      ]
    }
  ],
  "metadata": {
    "kernelspec": {
      "display_name": "base",
      "language": "python",
      "name": "python3"
    },
    "language_info": {
      "name": "python",
      "version": "3.9.7 (default, Sep 16 2021, 16:59:28) [MSC v.1916 64 bit (AMD64)]"
    },
    "orig_nbformat": 4,
    "vscode": {
      "interpreter": {
        "hash": "ae762972a34df10aa51ef26bc783b206e1ab830a8db532b158520f3d75f51d30"
      }
    },
    "colab": {
      "provenance": []
    }
  },
  "nbformat": 4,
  "nbformat_minor": 0
}