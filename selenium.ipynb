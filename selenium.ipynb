{
 "cells": [
  {
   "cell_type": "code",
   "execution_count": 1,
   "id": "f6e68827-d5ab-49f3-969c-8a44f26bac97",
   "metadata": {},
   "outputs": [],
   "source": [
    "import os\n",
    "import json\n",
    "import time\n",
    "import pandas as pd\n",
    "from tqdm import tqdm\n",
    "from selenium import webdriver\n",
    "from selenium.webdriver.firefox.options import Options\n",
    "from webdrivermanager import GeckoDriverManager"
   ]
  },
  {
   "cell_type": "code",
   "execution_count": 2,
   "id": "ba25e0bb-4344-4079-ac4b-48f4e48dc595",
   "metadata": {},
   "outputs": [],
   "source": [
    "def reformat(key, outdir):\n",
    "    while os.path.isfile(outdir + \"data.csv\") == False:\n",
    "        time.sleep(1)\n",
    "                         \n",
    "    reader = open(outdir + \"data.csv\",\"r\",encoding=\"iso-8859-2\")    \n",
    "    content = reader.read().split(\"\\n\")\n",
    "    if(len(content) > 0):\n",
    "        writer = open(outdir + key + \".csv\",\"w\",encoding=\"utf8\")\n",
    "        # print(len(content[17:])\n",
    "        for c in content[17:]:\n",
    "            writer.write(c+\"\\n\")\n",
    "        writer.close()        \n",
    "    reader.close()\n",
    "    \n",
    "    return len(content)"
   ]
  },
  {
   "cell_type": "code",
   "execution_count": 29,
   "id": "5fdc8d40-ea3b-4c48-8074-705be73c5a1e",
   "metadata": {},
   "outputs": [],
   "source": [
    "def create_browser():\n",
    "    profile = webdriver.FirefoxProfile()\n",
    "    profile.set_preference('browser.download.folderList', 2) # custom location\n",
    "    profile.set_preference('browser.download.manager.showWhenStarting', False)\n",
    "    profile.set_preference('browser.download.dir', outdir)\n",
    "    profile.set_preference('browser.helperApps.neverAsk.saveToDisk', 'text/csv')\n",
    "    options = Options()\n",
    "    options.headless = True\n",
    "    return webdriver.Firefox(profile, options=options, executable_path=geckodriver)"
   ]
  },
  {
   "cell_type": "code",
   "execution_count": 3,
   "id": "cff8216a-069a-4fc4-8aed-dd7ed27e3468",
   "metadata": {},
   "outputs": [],
   "source": [
    "with open(\"data/selenium/data.json\",\"r\",encoding=\"utf8\") as jf:\n",
    "    stocks = json.load(jf)"
   ]
  },
  {
   "cell_type": "code",
   "execution_count": 18,
   "id": "cdf3635d-1936-4a5f-a40d-8b50870358cb",
   "metadata": {},
   "outputs": [],
   "source": [
    "outdir = '/home/lakrob/work/tmp/selenium/'\n",
    "geckodriver=r'/home/lakrob/.local/share/WebDriverManager/gecko/v0.32.0/geckodriver-v0.32.0-linux64/geckodriver'"
   ]
  },
  {
   "cell_type": "code",
   "execution_count": 21,
   "id": "508ec66a-73a5-4570-86a5-d5f7799caf29",
   "metadata": {},
   "outputs": [
    {
     "data": {
      "text/plain": [
       "['HU0000720271',\n",
       " 'HU0000706361',\n",
       " 'HU0000728290',\n",
       " 'HU0000715891',\n",
       " 'HU0000716451']"
      ]
     },
     "execution_count": 21,
     "metadata": {},
     "output_type": "execute_result"
    }
   ],
   "source": [
    "list(stocks.keys())[:5]"
   ]
  },
  {
   "cell_type": "code",
   "execution_count": 34,
   "id": "0943d4ac-f16e-4009-af83-5cf8653cd1d0",
   "metadata": {},
   "outputs": [
    {
     "name": "stderr",
     "output_type": "stream",
     "text": [
      "/tmp/ipykernel_1656/381067596.py:2: DeprecationWarning: firefox_profile has been deprecated, please use an Options object\n",
      "  profile = webdriver.FirefoxProfile()\n",
      "/tmp/ipykernel_1656/381067596.py:9: DeprecationWarning: executable_path has been deprecated, please pass in a Service object\n",
      "  return webdriver.Firefox(profile, options=options, executable_path=geckodriver)\n",
      "/tmp/ipykernel_1656/381067596.py:9: DeprecationWarning: firefox_profile has been deprecated, please pass in an Options object\n",
      "  return webdriver.Firefox(profile, options=options, executable_path=geckodriver)\n",
      "Completed: HU0000709019, len(3134): 100%|██████████| 11/11 [01:28<00:00,  8.05s/it]\n",
      "Completed: HU0000706247, len(3005): 100%|██████████| 2/2 [00:14<00:00,  7.18s/it]\n"
     ]
    }
   ],
   "source": [
    "while len(list(stocks.keys())) > 0:    \n",
    "    errors = {}\n",
    "    browser = create_browser()\n",
    "    pbar = tqdm(stocks.keys())\n",
    "    for key in pbar:\n",
    "        # print(key)\n",
    "        # key = \"HU0000716451\"\n",
    "        while os.path.isfile(outdir + \"data(1).csv\") == True:\n",
    "            os.remove(outdir + \"data(1).csv\")\n",
    "            time.sleep(1)\n",
    "\n",
    "        pbar.set_description(\"Downloading: \" + key)\n",
    "        browser.get(\"https://www.bamosz.hu/alapoldal?isin=\" + key)\n",
    "        button = browser.find_element(\"id\", \"A3225:j_idt8:j_idt273\")\n",
    "        click = button.click()\n",
    "        time.sleep(1)\n",
    "\n",
    "        pbar.set_description(\"Reformat data.csv\")\n",
    "        lenc = reformat(key, outdir)\n",
    "\n",
    "        if lenc < 10:\n",
    "            errors[key] = stocks[key]\n",
    "            pbar.set_description(\"Empty: \" + key)\n",
    "            time.sleep(1)\n",
    "            browser = create_browser()\n",
    "        time.sleep(1)\n",
    "\n",
    "        pbar.set_description(\"Removing data.csv\")\n",
    "        while os.path.isfile(outdir + \"data.csv\") == True:\n",
    "            os.remove(outdir + \"data.csv\")\n",
    "            time.sleep(1)\n",
    "\n",
    "        pbar.set_description(\"Completed: \" + key + \", len(\" + str(lenc) + \")\")        \n",
    "        time.sleep(1)\n",
    "        \n",
    "    stocks = errors            \n",
    "    time.sleep(1)"
   ]
  },
  {
   "cell_type": "code",
   "execution_count": 35,
   "id": "32db8496-91cb-4d62-9588-1c098c4a2d7c",
   "metadata": {},
   "outputs": [
    {
     "data": {
      "text/plain": [
       "{}"
      ]
     },
     "execution_count": 35,
     "metadata": {},
     "output_type": "execute_result"
    }
   ],
   "source": [
    "stocks = errors\n",
    "stocks"
   ]
  },
  {
   "cell_type": "code",
   "execution_count": null,
   "id": "1bef7daa-d2dd-4aff-b927-93fa3953cd40",
   "metadata": {},
   "outputs": [],
   "source": []
  }
 ],
 "metadata": {
  "kernelspec": {
   "display_name": "Python [conda env:energy_kernel]",
   "language": "python",
   "name": "conda-env-energy_kernel-py"
  },
  "language_info": {
   "codemirror_mode": {
    "name": "ipython",
    "version": 3
   },
   "file_extension": ".py",
   "mimetype": "text/x-python",
   "name": "python",
   "nbconvert_exporter": "python",
   "pygments_lexer": "ipython3",
   "version": "3.10.6"
  }
 },
 "nbformat": 4,
 "nbformat_minor": 5
}
